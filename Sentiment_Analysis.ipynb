{
 "cells": [
  {
   "cell_type": "code",
   "execution_count": 1,
   "metadata": {},
   "outputs": [],
   "source": [
    "#import Dependencies\n",
    "import pandas as pd\n",
    "import numpy as np\n",
    "import tweepy\n",
    "from datetime import datetime\n",
    "import matplotlib.pyplot as plt\n",
    "from matplotlib import style\n",
    "style.use('ggplot')\n",
    "from vaderSentiment.vaderSentiment import SentimentIntensityAnalyzer\n",
    "analyzer = SentimentIntensityAnalyzer()\n"
   ]
  },
  {
   "cell_type": "code",
   "execution_count": 2,
   "metadata": {},
   "outputs": [],
   "source": [
    "from config import (consumer_key,consumer_secret,access_token,access_token_secret)\n",
    "\n",
    "# Setup Tweepy API Authentication\n",
    "auth = tweepy.OAuthHandler(consumer_key, consumer_secret)\n",
    "auth.set_access_token(access_token, access_token_secret)\n",
    "api = tweepy.API(auth, parser=tweepy.parsers.JSONParser())"
   ]
  },
  {
   "cell_type": "code",
   "execution_count": 3,
   "metadata": {},
   "outputs": [],
   "source": [
    "# Target Search Term\n",
    "target_terms = (\"@CNN\", \"@nytimes\", \"@CBS\",\n",
    "                \"@BBC\", \"@FoxNews\")\n"
   ]
  },
  {
   "cell_type": "code",
   "execution_count": 4,
   "metadata": {},
   "outputs": [],
   "source": [
    "# Counter\n",
    "\n",
    "# Variables for holding sentiments\n",
    "sentiments = []\n",
    "\n",
    "# Loop through all target users\n",
    "for target in target_terms:\n",
    "    counter = 1\n",
    "  #Loop through 100 tweets\n",
    "    for x in range(5):\n",
    "        \n",
    "        #Get tweets from homefeed\n",
    "        public_tweets = api.user_timeline(target, page=x)\n",
    "\n",
    "    \n",
    "        for tweet in public_tweets:\n",
    "            compound = analyzer.polarity_scores(tweet[\"text\"])[\"compound\"]\n",
    "            pos = analyzer.polarity_scores(tweet[\"text\"])[\"pos\"]\n",
    "            neu = analyzer.polarity_scores(tweet[\"text\"])[\"neu\"]\n",
    "            neg = analyzer.polarity_scores(tweet[\"text\"])[\"neg\"]\n",
    "            text=tweet['text']\n",
    "            date=tweet['created_at']\n",
    "\n",
    "           \n",
    "     # Add sentiments for each tweet into a list\n",
    "            sentiments.append({\"Source Account\":target,\n",
    "                           \"Tweets\":text,\n",
    "                           \"Date\": date, \n",
    "                           \"Compound\": compound,\n",
    "                           \"Positive\": pos,\n",
    "                           \"Negative\": neg,\n",
    "                           \"Neutral\": neu,\n",
    "                           \"Tweets Ago\": counter})\n",
    "        \n",
    "  # Add to counter \n",
    "            counter += 1\n"
   ]
  },
  {
   "cell_type": "code",
   "execution_count": 5,
   "metadata": {},
   "outputs": [
    {
     "data": {
      "text/html": [
       "<div>\n",
       "<style scoped>\n",
       "    .dataframe tbody tr th:only-of-type {\n",
       "        vertical-align: middle;\n",
       "    }\n",
       "\n",
       "    .dataframe tbody tr th {\n",
       "        vertical-align: top;\n",
       "    }\n",
       "\n",
       "    .dataframe thead th {\n",
       "        text-align: right;\n",
       "    }\n",
       "</style>\n",
       "<table border=\"1\" class=\"dataframe\">\n",
       "  <thead>\n",
       "    <tr style=\"text-align: right;\">\n",
       "      <th></th>\n",
       "      <th>Compound</th>\n",
       "      <th>Date</th>\n",
       "      <th>Negative</th>\n",
       "      <th>Neutral</th>\n",
       "      <th>Positive</th>\n",
       "      <th>Source Account</th>\n",
       "      <th>Tweets</th>\n",
       "      <th>Tweets Ago</th>\n",
       "    </tr>\n",
       "  </thead>\n",
       "  <tbody>\n",
       "    <tr>\n",
       "      <th>0</th>\n",
       "      <td>0.3818</td>\n",
       "      <td>Mon Sep 24 19:31:07 +0000 2018</td>\n",
       "      <td>0.000</td>\n",
       "      <td>0.867</td>\n",
       "      <td>0.133</td>\n",
       "      <td>@CNN</td>\n",
       "      <td>A 74-year-old man has been discovered alive fi...</td>\n",
       "      <td>1</td>\n",
       "    </tr>\n",
       "    <tr>\n",
       "      <th>1</th>\n",
       "      <td>0.0000</td>\n",
       "      <td>Mon Sep 24 19:23:57 +0000 2018</td>\n",
       "      <td>0.000</td>\n",
       "      <td>1.000</td>\n",
       "      <td>0.000</td>\n",
       "      <td>@CNN</td>\n",
       "      <td>RT @CNNPolitics: President Trump discusses his...</td>\n",
       "      <td>2</td>\n",
       "    </tr>\n",
       "    <tr>\n",
       "      <th>2</th>\n",
       "      <td>-0.5859</td>\n",
       "      <td>Mon Sep 24 19:21:06 +0000 2018</td>\n",
       "      <td>0.167</td>\n",
       "      <td>0.833</td>\n",
       "      <td>0.000</td>\n",
       "      <td>@CNN</td>\n",
       "      <td>The nonprofit that runs the National Sexual As...</td>\n",
       "      <td>3</td>\n",
       "    </tr>\n",
       "    <tr>\n",
       "      <th>3</th>\n",
       "      <td>0.0000</td>\n",
       "      <td>Mon Sep 24 19:14:21 +0000 2018</td>\n",
       "      <td>0.000</td>\n",
       "      <td>1.000</td>\n",
       "      <td>0.000</td>\n",
       "      <td>@CNN</td>\n",
       "      <td>Senate Majority Leader Mitch McConnell is spea...</td>\n",
       "      <td>4</td>\n",
       "    </tr>\n",
       "    <tr>\n",
       "      <th>4</th>\n",
       "      <td>0.0000</td>\n",
       "      <td>Mon Sep 24 19:11:05 +0000 2018</td>\n",
       "      <td>0.000</td>\n",
       "      <td>1.000</td>\n",
       "      <td>0.000</td>\n",
       "      <td>@CNN</td>\n",
       "      <td>Rod Rosenstein's departure would turn the Muel...</td>\n",
       "      <td>5</td>\n",
       "    </tr>\n",
       "  </tbody>\n",
       "</table>\n",
       "</div>"
      ],
      "text/plain": [
       "   Compound                            Date  Negative  Neutral  Positive  \\\n",
       "0    0.3818  Mon Sep 24 19:31:07 +0000 2018     0.000    0.867     0.133   \n",
       "1    0.0000  Mon Sep 24 19:23:57 +0000 2018     0.000    1.000     0.000   \n",
       "2   -0.5859  Mon Sep 24 19:21:06 +0000 2018     0.167    0.833     0.000   \n",
       "3    0.0000  Mon Sep 24 19:14:21 +0000 2018     0.000    1.000     0.000   \n",
       "4    0.0000  Mon Sep 24 19:11:05 +0000 2018     0.000    1.000     0.000   \n",
       "\n",
       "  Source Account                                             Tweets  \\\n",
       "0           @CNN  A 74-year-old man has been discovered alive fi...   \n",
       "1           @CNN  RT @CNNPolitics: President Trump discusses his...   \n",
       "2           @CNN  The nonprofit that runs the National Sexual As...   \n",
       "3           @CNN  Senate Majority Leader Mitch McConnell is spea...   \n",
       "4           @CNN  Rod Rosenstein's departure would turn the Muel...   \n",
       "\n",
       "   Tweets Ago  \n",
       "0           1  \n",
       "1           2  \n",
       "2           3  \n",
       "3           4  \n",
       "4           5  "
      ]
     },
     "execution_count": 5,
     "metadata": {},
     "output_type": "execute_result"
    }
   ],
   "source": [
    "# Convert sentiments to DataFrame\n",
    "sentiments_pd = pd.DataFrame.from_dict(sentiments)\n",
    "sentiments_pd.head()\n"
   ]
  },
  {
   "cell_type": "code",
   "execution_count": 7,
   "metadata": {},
   "outputs": [
    {
     "data": {
      "text/html": [
       "<div>\n",
       "<style scoped>\n",
       "    .dataframe tbody tr th:only-of-type {\n",
       "        vertical-align: middle;\n",
       "    }\n",
       "\n",
       "    .dataframe tbody tr th {\n",
       "        vertical-align: top;\n",
       "    }\n",
       "\n",
       "    .dataframe thead th {\n",
       "        text-align: right;\n",
       "    }\n",
       "</style>\n",
       "<table border=\"1\" class=\"dataframe\">\n",
       "  <thead>\n",
       "    <tr style=\"text-align: right;\">\n",
       "      <th></th>\n",
       "      <th>Source Account</th>\n",
       "      <th>Tweets</th>\n",
       "      <th>Date</th>\n",
       "      <th>Compound</th>\n",
       "      <th>Positive</th>\n",
       "      <th>Negative</th>\n",
       "      <th>Neutral</th>\n",
       "      <th>Tweets Ago</th>\n",
       "    </tr>\n",
       "  </thead>\n",
       "  <tbody>\n",
       "    <tr>\n",
       "      <th>0</th>\n",
       "      <td>CNN</td>\n",
       "      <td>A 74-year-old man has been discovered alive fi...</td>\n",
       "      <td>Mon Sep 24 19:31:07 +0000 2018</td>\n",
       "      <td>0.3818</td>\n",
       "      <td>0.133</td>\n",
       "      <td>0.000</td>\n",
       "      <td>0.867</td>\n",
       "      <td>1</td>\n",
       "    </tr>\n",
       "    <tr>\n",
       "      <th>1</th>\n",
       "      <td>CNN</td>\n",
       "      <td>RT @CNNPolitics: President Trump discusses his...</td>\n",
       "      <td>Mon Sep 24 19:23:57 +0000 2018</td>\n",
       "      <td>0.0000</td>\n",
       "      <td>0.000</td>\n",
       "      <td>0.000</td>\n",
       "      <td>1.000</td>\n",
       "      <td>2</td>\n",
       "    </tr>\n",
       "    <tr>\n",
       "      <th>2</th>\n",
       "      <td>CNN</td>\n",
       "      <td>The nonprofit that runs the National Sexual As...</td>\n",
       "      <td>Mon Sep 24 19:21:06 +0000 2018</td>\n",
       "      <td>-0.5859</td>\n",
       "      <td>0.000</td>\n",
       "      <td>0.167</td>\n",
       "      <td>0.833</td>\n",
       "      <td>3</td>\n",
       "    </tr>\n",
       "    <tr>\n",
       "      <th>3</th>\n",
       "      <td>CNN</td>\n",
       "      <td>Senate Majority Leader Mitch McConnell is spea...</td>\n",
       "      <td>Mon Sep 24 19:14:21 +0000 2018</td>\n",
       "      <td>0.0000</td>\n",
       "      <td>0.000</td>\n",
       "      <td>0.000</td>\n",
       "      <td>1.000</td>\n",
       "      <td>4</td>\n",
       "    </tr>\n",
       "    <tr>\n",
       "      <th>4</th>\n",
       "      <td>CNN</td>\n",
       "      <td>Rod Rosenstein's departure would turn the Muel...</td>\n",
       "      <td>Mon Sep 24 19:11:05 +0000 2018</td>\n",
       "      <td>0.0000</td>\n",
       "      <td>0.000</td>\n",
       "      <td>0.000</td>\n",
       "      <td>1.000</td>\n",
       "      <td>5</td>\n",
       "    </tr>\n",
       "  </tbody>\n",
       "</table>\n",
       "</div>"
      ],
      "text/plain": [
       "  Source Account                                             Tweets  \\\n",
       "0            CNN  A 74-year-old man has been discovered alive fi...   \n",
       "1            CNN  RT @CNNPolitics: President Trump discusses his...   \n",
       "2            CNN  The nonprofit that runs the National Sexual As...   \n",
       "3            CNN  Senate Majority Leader Mitch McConnell is spea...   \n",
       "4            CNN  Rod Rosenstein's departure would turn the Muel...   \n",
       "\n",
       "                             Date  Compound  Positive  Negative  Neutral  \\\n",
       "0  Mon Sep 24 19:31:07 +0000 2018    0.3818     0.133     0.000    0.867   \n",
       "1  Mon Sep 24 19:23:57 +0000 2018    0.0000     0.000     0.000    1.000   \n",
       "2  Mon Sep 24 19:21:06 +0000 2018   -0.5859     0.000     0.167    0.833   \n",
       "3  Mon Sep 24 19:14:21 +0000 2018    0.0000     0.000     0.000    1.000   \n",
       "4  Mon Sep 24 19:11:05 +0000 2018    0.0000     0.000     0.000    1.000   \n",
       "\n",
       "   Tweets Ago  \n",
       "0           1  \n",
       "1           2  \n",
       "2           3  \n",
       "3           4  \n",
       "4           5  "
      ]
     },
     "execution_count": 7,
     "metadata": {},
     "output_type": "execute_result"
    }
   ],
   "source": [
    "#Printing the dataframe\n",
    "sentiments_pd=sentiments_pd[[\"Source Account\",\"Tweets\",\"Date\",\"Compound\",\"Positive\",\"Negative\",\"Neutral\",\"Tweets Ago\"]]\n",
    "\n",
    "sentiments_pd['Source Account'] = sentiments_pd['Source Account'].str.split('@').str[1]\n",
    "sentiments_pd.head()"
   ]
  },
  {
   "cell_type": "code",
   "execution_count": 8,
   "metadata": {},
   "outputs": [],
   "source": [
    "#saving to csv file\n",
    "sentiments_pd.to_csv(\"Sentiment_analysis_news.csv\", encoding=\"utf-8\", index=False)\n"
   ]
  },
  {
   "cell_type": "code",
   "execution_count": 10,
   "metadata": {},
   "outputs": [
    {
     "data": {
      "image/png": "[encoded data removed]",
      "text/plain": [
       "<Figure size 432x288 with 1 Axes>"
      ]
     },
     "metadata": {},
     "output_type": "display_data"
    }
   ],
   "source": [
    "now = datetime.now()\n",
    "now = now.strftime(\"%m/%d/%y\")\n",
    "#Set the x limit,\n",
    "plt.xlim(101, -1)\n",
    "plt.ylim(-1.1,1.1)\n",
    "targets=['CNN','nytimes','CBS','BBC','FoxNews']\n",
    "for target in targets:\n",
    "    plot_pd=sentiments_pd.loc[sentiments_pd['Source Account']==target]\n",
    "    plt.scatter(plot_pd['Tweets Ago'],plot_pd['Compound'],label=target)\n",
    "plt.title(f\"Sentiment Analysis of Media Tweets ({now})\")\n",
    "plt.xlabel(\"Tweets Ago\")\n",
    "plt.ylabel(\"Tweet Polarity\")\n",
    "plt.legend(title='Media Sources',bbox_to_anchor = (1,1))\n",
    "\n",
    "#Set a grid on the plot.\n",
    "plt.grid(color='white')\n",
    "#saving the figure\n",
    "plt.savefig(\"Sentiment Analysis of Media Tweets\")\n",
    "plt.show()\n",
    "    "
   ]
  },
  {
   "cell_type": "code",
   "execution_count": 12,
   "metadata": {},
   "outputs": [
    {
     "data": {
      "text/plain": [
       "Source Account\n",
       "BBC        0.191044\n",
       "CBS        0.154848\n",
       "CNN        0.009193\n",
       "FoxNews   -0.071105\n",
       "nytimes    0.000341\n",
       "Name: Compound, dtype: float64"
      ]
     },
     "execution_count": 12,
     "metadata": {},
     "output_type": "execute_result"
    }
   ],
   "source": [
    "average_sentiment = sentiments_pd.groupby(\"Source Account\")[\"Compound\"].mean()\n",
    "average_sentiment"
   ]
  },
  {
   "cell_type": "code",
   "execution_count": 14,
   "metadata": {},
   "outputs": [
    {
     "data": {
      "image/png": "[encoded data removed]",
      "text/plain": [
       "<Figure size 432x288 with 1 Axes>"
      ]
     },
     "metadata": {},
     "output_type": "display_data"
    }
   ],
   "source": [
    "x_axis = np.arange(len(average_sentiment))\n",
    "xlabels = average_sentiment.index\n",
    "count = 0\n",
    "for sentiment in average_sentiment:\n",
    "    plt.text(count, sentiment+.02, str(round(sentiment,2)))\n",
    "    count = count + 1\n",
    "plt.bar(x_axis, average_sentiment, tick_label = xlabels, color = ['skyblue', 'green', 'red', 'blue', 'yellow'],edgecolor='black')\n",
    "#Set title, x axis label, and y axis label.\n",
    "plt.title(f\"Overall Media Sentiments based on Twitter({now})\")\n",
    "\n",
    "plt.ylabel(\"Tweet Polarity\")\n",
    "plt.axhline(y=0, color = 'black') #adds a horizontal line at zero\n",
    "plt.ylim(-0.1, 0.25)\n",
    "plt.savefig(\"Overall Media Sentiments based on Twitter.png\")\n",
    "plt.show()"
   ]
  },
  {
   "cell_type": "code",
   "execution_count": null,
   "metadata": {},
   "outputs": [],
   "source": []
  }
 ],
 "metadata": {
  "kernelspec": {
   "display_name": "Python [default]",
   "language": "python",
   "name": "python3"
  },
  "language_info": {
   "codemirror_mode": {
    "name": "ipython",
    "version": 3
   },
   "file_extension": ".py",
   "mimetype": "text/x-python",
   "name": "python",
   "nbconvert_exporter": "python",
   "pygments_lexer": "ipython3",
   "version": "3.6.5"
  }
 },
 "nbformat": 4,
 "nbformat_minor": 2
}
